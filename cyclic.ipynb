{
 "cells": [
  {
   "cell_type": "code",
   "execution_count": 1,
   "metadata": {},
   "outputs": [],
   "source": [
    "import pandas as pd\n",
    "import numpy as np\n",
    "import matplotlib.pyplot as plt\n",
    "from math import floor\n",
    "from z3 import *"
   ]
  },
  {
   "cell_type": "code",
   "execution_count": 29,
   "metadata": {},
   "outputs": [],
   "source": [
    "taskset  = pd.read_csv('example2.csv')"
   ]
  },
  {
   "cell_type": "code",
   "execution_count": 30,
   "metadata": {},
   "outputs": [
    {
     "data": {
      "text/html": [
       "<div>\n",
       "<style scoped>\n",
       "    .dataframe tbody tr th:only-of-type {\n",
       "        vertical-align: middle;\n",
       "    }\n",
       "\n",
       "    .dataframe tbody tr th {\n",
       "        vertical-align: top;\n",
       "    }\n",
       "\n",
       "    .dataframe thead th {\n",
       "        text-align: right;\n",
       "    }\n",
       "</style>\n",
       "<table border=\"1\" class=\"dataframe\">\n",
       "  <thead>\n",
       "    <tr style=\"text-align: right;\">\n",
       "      <th></th>\n",
       "      <th>Task</th>\n",
       "      <th>Computation</th>\n",
       "      <th>Period</th>\n",
       "      <th>Deadline</th>\n",
       "    </tr>\n",
       "  </thead>\n",
       "  <tbody>\n",
       "    <tr>\n",
       "      <th>0</th>\n",
       "      <td>1</td>\n",
       "      <td>2</td>\n",
       "      <td>20</td>\n",
       "      <td>10</td>\n",
       "    </tr>\n",
       "    <tr>\n",
       "      <th>1</th>\n",
       "      <td>2</td>\n",
       "      <td>1</td>\n",
       "      <td>5</td>\n",
       "      <td>5</td>\n",
       "    </tr>\n",
       "    <tr>\n",
       "      <th>2</th>\n",
       "      <td>3</td>\n",
       "      <td>2</td>\n",
       "      <td>5</td>\n",
       "      <td>6</td>\n",
       "    </tr>\n",
       "  </tbody>\n",
       "</table>\n",
       "</div>"
      ],
      "text/plain": [
       "   Task  Computation  Period  Deadline\n",
       "0     1            2      20        10\n",
       "1     2            1       5         5\n",
       "2     3            2       5         6"
      ]
     },
     "execution_count": 30,
     "metadata": {},
     "output_type": "execute_result"
    }
   ],
   "source": [
    "taskset"
   ]
  },
  {
   "cell_type": "code",
   "execution_count": 31,
   "metadata": {},
   "outputs": [
    {
     "data": {
      "text/plain": [
       "20"
      ]
     },
     "execution_count": 31,
     "metadata": {},
     "output_type": "execute_result"
    }
   ],
   "source": [
    "hyper_period = np.lcm.reduce(taskset.Period.values)\n",
    "hyper_period"
   ]
  },
  {
   "cell_type": "code",
   "execution_count": 32,
   "metadata": {},
   "outputs": [
    {
     "name": "stdout",
     "output_type": "stream",
     "text": [
      "2 5\n"
     ]
    }
   ],
   "source": [
    "min_frame_size = np.max(taskset.Computation.values)\n",
    "max_frame_size = np.min(taskset.Period.values)\n",
    "print(min_frame_size, max_frame_size)"
   ]
  },
  {
   "cell_type": "code",
   "execution_count": 33,
   "metadata": {},
   "outputs": [
    {
     "data": {
      "text/plain": [
       "array([2, 3, 4, 5], dtype=int64)"
      ]
     },
     "execution_count": 33,
     "metadata": {},
     "output_type": "execute_result"
    }
   ],
   "source": [
    "possible_frame_sizes = np.arange(min_frame_size, max_frame_size+1,1)\n",
    "possible_frame_sizes"
   ]
  },
  {
   "cell_type": "code",
   "execution_count": 34,
   "metadata": {},
   "outputs": [],
   "source": [
    "def get_valid_frame_sizes(possible_frame_sizes, hyper_period):\n",
    "    possible_frame_sizes = np.array(possible_frame_sizes)\n",
    "    \n",
    "    is_multiple = np.mod(hyper_period, possible_frame_sizes) == 0\n",
    "\n",
    "    return np.array(possible_frame_sizes[is_multiple])\n",
    "    "
   ]
  },
  {
   "cell_type": "code",
   "execution_count": 35,
   "metadata": {},
   "outputs": [
    {
     "data": {
      "text/plain": [
       "array([2, 4, 5], dtype=int64)"
      ]
     },
     "execution_count": 35,
     "metadata": {},
     "output_type": "execute_result"
    }
   ],
   "source": [
    "valid_frame_sizes = get_valid_frame_sizes(possible_frame_sizes, hyper_period)\n",
    "valid_frame_sizes"
   ]
  },
  {
   "cell_type": "code",
   "execution_count": 36,
   "metadata": {},
   "outputs": [
    {
     "name": "stdout",
     "output_type": "stream",
     "text": [
      "[2 5]\n"
     ]
    }
   ],
   "source": [
    "final_frame_sizes = []\n",
    "for frame_size in valid_frame_sizes:\n",
    "    count = 0\n",
    "    for _, row in taskset.iterrows():\n",
    "        # print(row)\n",
    "        condition = 2*frame_size - np.gcd(row.Period, frame_size)<= row.Deadline\n",
    "        if condition:\n",
    "            count+=1\n",
    "        if count == len(taskset):\n",
    "            final_frame_sizes.append(frame_size)\n",
    "print(np.array(final_frame_sizes))"
   ]
  },
  {
   "cell_type": "code",
   "execution_count": 37,
   "metadata": {},
   "outputs": [
    {
     "name": "stdout",
     "output_type": "stream",
     "text": [
      "20 2\n"
     ]
    }
   ],
   "source": [
    "frame_size = final_frame_sizes[0]\n",
    "print(hyper_period,frame_size)"
   ]
  },
  {
   "cell_type": "code",
   "execution_count": 38,
   "metadata": {},
   "outputs": [
    {
     "data": {
      "text/plain": [
       "[{'Task': 1, 'Computation': 2, 'Period': 20, 'Deadline': 10},\n",
       " {'Task': 2, 'Computation': 1, 'Period': 5, 'Deadline': 5},\n",
       " {'Task': 3, 'Computation': 2, 'Period': 5, 'Deadline': 6}]"
      ]
     },
     "execution_count": 38,
     "metadata": {},
     "output_type": "execute_result"
    }
   ],
   "source": [
    "def get_taskset_dict_list(taskset_df):\n",
    "    taskset_list = []\n",
    "    for ind,row in taskset_df.iterrows():\n",
    "        dict = {\"Task\":int(row['Task']), \"Computation\":int(row['Computation']), \"Period\":int(row['Period']), \"Deadline\":int(row['Deadline'])}\n",
    "        taskset_list.append(dict)\n",
    "    return taskset_list\n",
    "\n",
    "task_set = get_taskset_dict_list(taskset)\n",
    "task_set"
   ]
  },
  {
   "cell_type": "code",
   "execution_count": 39,
   "metadata": {},
   "outputs": [],
   "source": [
    "from z3 import Solver, Int, sat\n",
    "\n",
    "\n",
    "\n",
    "# Sort the task set by periods\n",
    "task_set_sorted = sorted(task_set, key=lambda x: x['Deadline'])\n",
    "\n",
    "# Find the hyper period\n",
    "hyper_period = hyper_period#task_set_sorted[-1]['Period']\n",
    "\n",
    "# Define the start times of the tasks as integer variables\n",
    "start_times = [Int(f\"start_time_{task['Task']}\") for task in task_set_sorted]\n",
    "\n",
    "# Create a solver\n",
    "smt = Solver()\n",
    "\n",
    "\n"
   ]
  },
  {
   "cell_type": "code",
   "execution_count": 40,
   "metadata": {},
   "outputs": [
    {
     "data": {
      "text/plain": [
       "[{'Task': 1, 'Computation': 2, 'Period': 20, 'Deadline': 10},\n",
       " {'Task': 2, 'Computation': 1, 'Period': 5, 'Deadline': 5},\n",
       " {'Task': 3, 'Computation': 2, 'Period': 5, 'Deadline': 6}]"
      ]
     },
     "execution_count": 40,
     "metadata": {},
     "output_type": "execute_result"
    }
   ],
   "source": [
    "task_set"
   ]
  },
  {
   "cell_type": "code",
   "execution_count": 41,
   "metadata": {},
   "outputs": [],
   "source": [
    "release_instances_optim = []\n",
    "for task in task_set_sorted:\n",
    "    task_list = []\n",
    "    for nn in range(int(floor(hyper_period / task[\"Period\"]))):\n",
    "        # print(nn)\n",
    "        task_list.append(Int(\"Task\"+str(task['Task']) + \"_\" + \"inst_\" + str(nn)))\n",
    "    release_instances_optim.append(task_list)\n",
    "    "
   ]
  },
  {
   "cell_type": "code",
   "execution_count": 42,
   "metadata": {},
   "outputs": [
    {
     "data": {
      "text/plain": [
       "[[Task2_inst_0, Task2_inst_1, Task2_inst_2, Task2_inst_3],\n",
       " [Task3_inst_0, Task3_inst_1, Task3_inst_2, Task3_inst_3],\n",
       " [Task1_inst_0]]"
      ]
     },
     "execution_count": 42,
     "metadata": {},
     "output_type": "execute_result"
    }
   ],
   "source": [
    "(release_instances_optim)"
   ]
  },
  {
   "cell_type": "code",
   "execution_count": 43,
   "metadata": {},
   "outputs": [],
   "source": [
    "release_instances = []\n",
    "for item in task_set:\n",
    "    # print(task_set)\n",
    "    computation_t = item[\"Computation\"]\n",
    "    num_instances = int(floor(hyper_period/item[\"Period\"]))\n",
    "    prev_period = 0\n",
    "    deadline = item['Deadline']\n",
    "    # print(item)\n",
    "    instances = []\n",
    "    prev_deadline = deadline\n",
    "    for i in range(num_instances):\n",
    "        # print(prev_period, prev_deadline)\n",
    "        instances.append({\"Period\": prev_period, \"Deadline\":prev_deadline, \"Computation\":computation_t})\n",
    "        prev_period +=item[\"Period\"]\n",
    "        prev_deadline = prev_period + deadline\n",
    "    release_instances.append(instances)\n"
   ]
  },
  {
   "cell_type": "code",
   "execution_count": 44,
   "metadata": {},
   "outputs": [
    {
     "data": {
      "text/plain": [
       "[[{'Period': 0, 'Deadline': 10, 'Computation': 2}],\n",
       " [{'Period': 0, 'Deadline': 5, 'Computation': 1},\n",
       "  {'Period': 5, 'Deadline': 10, 'Computation': 1},\n",
       "  {'Period': 10, 'Deadline': 15, 'Computation': 1},\n",
       "  {'Period': 15, 'Deadline': 20, 'Computation': 1}],\n",
       " [{'Period': 0, 'Deadline': 6, 'Computation': 2},\n",
       "  {'Period': 5, 'Deadline': 11, 'Computation': 2},\n",
       "  {'Period': 10, 'Deadline': 16, 'Computation': 2},\n",
       "  {'Period': 15, 'Deadline': 21, 'Computation': 2}]]"
      ]
     },
     "execution_count": 44,
     "metadata": {},
     "output_type": "execute_result"
    }
   ],
   "source": [
    "release_instances"
   ]
  },
  {
   "cell_type": "code",
   "execution_count": 45,
   "metadata": {},
   "outputs": [
    {
     "name": "stdout",
     "output_type": "stream",
     "text": [
      "Task: {'Task': 2, 'Computation': 1, 'Period': 5, 'Deadline': 5}, Start: 7, End: 8, Computation_time:2\n",
      "Task: {'Task': 3, 'Computation': 2, 'Period': 5, 'Deadline': 6}, Start: 2, End: 4, Computation_time:1\n",
      "Task: {'Task': 3, 'Computation': 2, 'Period': 5, 'Deadline': 6}, Start: 5, End: 7, Computation_time:1\n",
      "Task: {'Task': 3, 'Computation': 2, 'Period': 5, 'Deadline': 6}, Start: 10, End: 12, Computation_time:1\n",
      "Task: {'Task': 3, 'Computation': 2, 'Period': 5, 'Deadline': 6}, Start: 15, End: 17, Computation_time:1\n",
      "Task: {'Task': 1, 'Computation': 2, 'Period': 20, 'Deadline': 10}, Start: 0, End: 2, Computation_time:2\n"
     ]
    }
   ],
   "source": [
    "# Add constraints for each task\n",
    "for i, task in enumerate(task_set_sorted):\n",
    "    prev_st = None\n",
    "    for var, optim_var in zip(release_instances[i], release_instances_optim[i]):\n",
    "        \n",
    "        start_time = optim_var\n",
    "        computation_time = task['Computation']\n",
    "        period = var['Period']\n",
    "        deadline = var['Deadline']\n",
    "\n",
    "        # Start time must be non-negative\n",
    "        smt.add(start_time >= 0)\n",
    "        for ii in release_instances_optim:\n",
    "            \n",
    "            for jj in ii:\n",
    "                # print(jj,start_time)\n",
    "                if not(jj==start_time):\n",
    "                    smt.add(Or(\n",
    "                        start_time + computation_time <= jj,\n",
    "                        start_time >= jj +2 \n",
    "                    ))\n",
    "                    # for c in range(computation_time):\n",
    "                        \n",
    "                    # smt.add(And(Not(start_time==jj), Not(start_time+computation_time==jj)))\n",
    "                    # print(\"equal\") \n",
    "                    # print(jj,ii)\n",
    "                else:\n",
    "                    \n",
    "                    pass\n",
    "        \n",
    "        smt.add(And(start_time>=period),(start_time + computation_time <=  deadline))\n",
    "        \n",
    "        \n",
    "        prev_st = start_time \n",
    "\n",
    "# Check if there is a solution\n",
    "if smt.check() == sat:\n",
    "    model = smt.model()\n",
    "    ploting_list = []\n",
    "    for i, task in enumerate(task_set_sorted):\n",
    "        schedule = []\n",
    "        for var, optim_var in zip(release_instances[i], release_instances_optim[i]):\n",
    "            # print(var)\n",
    "            schedule.append(( model.evaluate(optim_var).as_long(), model.evaluate(optim_var + task['Computation']).as_long(),var[\"Computation\"]))\n",
    "            schedule.sort(key=lambda x: x[1])  # Sort the schedule by start time\n",
    "        ploting_list.append(schedule)\n",
    "        # Print the schedule\n",
    "        for start_time, end_time, computation in schedule:\n",
    "            print(f\"Task: {task}, Start: {start_time}, End: {end_time}, Computation_time:{computation}\")\n",
    "else:\n",
    "    print(\"No feasible schedule exists.\")\n"
   ]
  },
  {
   "cell_type": "code",
   "execution_count": 46,
   "metadata": {},
   "outputs": [
    {
     "data": {
      "text/plain": [
       "[[(7, 8, 2)], [(2, 4, 1), (5, 7, 1), (10, 12, 1), (15, 17, 1)], [(0, 2, 2)]]"
      ]
     },
     "execution_count": 46,
     "metadata": {},
     "output_type": "execute_result"
    }
   ],
   "source": [
    "ploting_list"
   ]
  },
  {
   "cell_type": "code",
   "execution_count": 47,
   "metadata": {},
   "outputs": [
    {
     "name": "stderr",
     "output_type": "stream",
     "text": [
      "C:\\Users\\ShahabKhan\\AppData\\Local\\Temp\\ipykernel_8516\\3745577509.py:21: MatplotlibDeprecationWarning: The 'b' parameter of grid() has been renamed 'visible' since Matplotlib 3.5; support for the old name will be dropped two minor releases later.\n",
      "  plt.grid(b=True, which='major', color='#666666', linestyle='-')\n",
      "C:\\Users\\ShahabKhan\\AppData\\Local\\Temp\\ipykernel_8516\\3745577509.py:24: MatplotlibDeprecationWarning: The 'b' parameter of grid() has been renamed 'visible' since Matplotlib 3.5; support for the old name will be dropped two minor releases later.\n",
      "  plt.grid(b=True, which='minor', color='#999999', linestyle='-', alpha=0.2)\n"
     ]
    },
    {
     "name": "stdout",
     "output_type": "stream",
     "text": [
      "\n",
      "Schedule plotted for %s hyper-periods\n",
      "\n"
     ]
    },
    {
     "data": {
      "image/png": "[encoded data removed]",
      "text/plain": [
       "<Figure size 640x480 with 1 Axes>"
      ]
     },
     "metadata": {},
     "output_type": "display_data"
    }
   ],
   "source": [
    "\n",
    "fig, axis = plt.subplots()\n",
    "plt.subplots_adjust(left=0.05, bottom=0.10, right=0.97, top=0.96)\n",
    "\n",
    "\n",
    "plt.title(\" (Hyper-period = \" + str(hyper_period) + \")\")\n",
    "\n",
    "# Setting Y-axis limits\n",
    "axis.set_ylim(0, len(ploting_list) * 10)\n",
    "# Setting X-axis limits\n",
    "axis.set_xlim(0, hyper_period )\n",
    "# Setting labels for x-axis and y-axis\n",
    "axis.set_xlabel('Schedule Timeline')\n",
    "axis.set_ylabel('Tasks')\n",
    "# axis.set_xticks(range(0, periods*Sum([t.getStartPIT()+t.execution for t in taskSet]), 5000))\n",
    "axis.set_xticks(range(0, hyper_period , 1))\n",
    "# Setting ticks on y-axis\n",
    "axis.set_yticks(range(5, len(ploting_list) * 10 + 5, 10))\n",
    "# Labelling tickes of y-axis\n",
    "\n",
    "# Show the major grid lines with dark grey lines\n",
    "plt.grid(b=True, which='major', color='#666666', linestyle='-')\n",
    "# Show the minor grid lines with very faint and almost transparent grey lines\n",
    "plt.minorticks_on()\n",
    "plt.grid(b=True, which='minor', color='#999999', linestyle='-', alpha=0.2)\n",
    "# Color map\n",
    "cmap = plt.cm.get_cmap('viridis', len(ploting_list))\n",
    "print(\"\\nSchedule plotted for %s hyper-periods\\n\" )\n",
    "for ind,i in enumerate(ploting_list):\n",
    "    taskExecutionBars = []    \n",
    "    for jj in i:\n",
    "        start = jj[0] \n",
    "        end = jj[1]\n",
    "        computation = jj[2]\n",
    "        taskExecutionBars.append((start, computation))\n",
    "    task_label = f\"task_{i}\"\n",
    "    axis.broken_barh(taskExecutionBars, (ind * 10, 10), label=f'task{ind}', facecolors=cmap(ind), edgecolor='k',\n",
    "                        linestyle='dotted', linewidth=0.2)\n",
    "\n",
    "# Rotate labels to fit nicely\n",
    "fig.autofmt_xdate()\n",
    "fig.tight_layout()\n",
    "plt.show()"
   ]
  },
  {
   "cell_type": "code",
   "execution_count": null,
   "metadata": {},
   "outputs": [],
   "source": []
  },
  {
   "cell_type": "code",
   "execution_count": null,
   "metadata": {},
   "outputs": [],
   "source": []
  },
  {
   "cell_type": "code",
   "execution_count": null,
   "metadata": {},
   "outputs": [],
   "source": []
  }
 ],
 "metadata": {
  "kernelspec": {
   "display_name": "shadow",
   "language": "python",
   "name": "python3"
  },
  "language_info": {
   "codemirror_mode": {
    "name": "ipython",
    "version": 3
   },
   "file_extension": ".py",
   "mimetype": "text/x-python",
   "name": "python",
   "nbconvert_exporter": "python",
   "pygments_lexer": "ipython3",
   "version": "3.9.16"
  },
  "orig_nbformat": 4,
  "vscode": {
   "interpreter": {
    "hash": "0cf74a999d4ffc40242a95e83262eb29ca41616976ba1c2942396ce7ebf7594a"
   }
  }
 },
 "nbformat": 4,
 "nbformat_minor": 2
}
