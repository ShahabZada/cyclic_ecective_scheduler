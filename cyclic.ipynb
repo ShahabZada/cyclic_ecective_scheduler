{
 "cells": [
  {
   "cell_type": "code",
   "execution_count": 1,
   "metadata": {},
   "outputs": [],
   "source": [
    "import pandas as pd\n",
    "import numpy as np\n",
    "import matplotlib.pyplot as plt\n",
    "from math import floor\n",
    "from z3 import *"
   ]
  },
  {
   "cell_type": "code",
   "execution_count": 2,
   "metadata": {},
   "outputs": [],
   "source": [
    "taskset  = pd.read_csv('example.csv')"
   ]
  },
  {
   "cell_type": "code",
   "execution_count": 3,
   "metadata": {},
   "outputs": [
    {
     "data": {
      "text/html": [
       "<div>\n",
       "<style scoped>\n",
       "    .dataframe tbody tr th:only-of-type {\n",
       "        vertical-align: middle;\n",
       "    }\n",
       "\n",
       "    .dataframe tbody tr th {\n",
       "        vertical-align: top;\n",
       "    }\n",
       "\n",
       "    .dataframe thead th {\n",
       "        text-align: right;\n",
       "    }\n",
       "</style>\n",
       "<table border=\"1\" class=\"dataframe\">\n",
       "  <thead>\n",
       "    <tr style=\"text-align: right;\">\n",
       "      <th></th>\n",
       "      <th>Task</th>\n",
       "      <th>Computation</th>\n",
       "      <th>Period</th>\n",
       "      <th>Deadline</th>\n",
       "    </tr>\n",
       "  </thead>\n",
       "  <tbody>\n",
       "    <tr>\n",
       "      <th>0</th>\n",
       "      <td>1</td>\n",
       "      <td>2</td>\n",
       "      <td>6</td>\n",
       "      <td>6</td>\n",
       "    </tr>\n",
       "    <tr>\n",
       "      <th>1</th>\n",
       "      <td>2</td>\n",
       "      <td>2</td>\n",
       "      <td>9</td>\n",
       "      <td>9</td>\n",
       "    </tr>\n",
       "    <tr>\n",
       "      <th>2</th>\n",
       "      <td>3</td>\n",
       "      <td>2</td>\n",
       "      <td>12</td>\n",
       "      <td>8</td>\n",
       "    </tr>\n",
       "    <tr>\n",
       "      <th>3</th>\n",
       "      <td>4</td>\n",
       "      <td>4</td>\n",
       "      <td>18</td>\n",
       "      <td>10</td>\n",
       "    </tr>\n",
       "  </tbody>\n",
       "</table>\n",
       "</div>"
      ],
      "text/plain": [
       "   Task  Computation  Period  Deadline\n",
       "0     1            2       6         6\n",
       "1     2            2       9         9\n",
       "2     3            2      12         8\n",
       "3     4            4      18        10"
      ]
     },
     "execution_count": 3,
     "metadata": {},
     "output_type": "execute_result"
    }
   ],
   "source": [
    "taskset"
   ]
  },
  {
   "cell_type": "code",
   "execution_count": 4,
   "metadata": {},
   "outputs": [
    {
     "data": {
      "text/plain": [
       "36"
      ]
     },
     "execution_count": 4,
     "metadata": {},
     "output_type": "execute_result"
    }
   ],
   "source": [
    "hyper_period = np.lcm.reduce(taskset.Period.values)\n",
    "hyper_period"
   ]
  },
  {
   "cell_type": "code",
   "execution_count": 5,
   "metadata": {},
   "outputs": [
    {
     "name": "stdout",
     "output_type": "stream",
     "text": [
      "4 6\n"
     ]
    }
   ],
   "source": [
    "min_frame_size = np.max(taskset.Computation.values)\n",
    "max_frame_size = np.min(taskset.Period.values)\n",
    "print(min_frame_size, max_frame_size)"
   ]
  },
  {
   "cell_type": "code",
   "execution_count": 6,
   "metadata": {},
   "outputs": [
    {
     "data": {
      "text/plain": [
       "array([4, 5, 6], dtype=int64)"
      ]
     },
     "execution_count": 6,
     "metadata": {},
     "output_type": "execute_result"
    }
   ],
   "source": [
    "possible_frame_sizes = np.arange(min_frame_size, max_frame_size+1,1)\n",
    "possible_frame_sizes"
   ]
  },
  {
   "cell_type": "code",
   "execution_count": 7,
   "metadata": {},
   "outputs": [],
   "source": [
    "def get_valid_frame_sizes(possible_frame_sizes, hyper_period):\n",
    "    possible_frame_sizes = np.array(possible_frame_sizes)\n",
    "    \n",
    "    is_multiple = np.mod(hyper_period, possible_frame_sizes) == 0\n",
    "\n",
    "    return np.array(possible_frame_sizes[is_multiple])\n",
    "    "
   ]
  },
  {
   "cell_type": "code",
   "execution_count": 8,
   "metadata": {},
   "outputs": [
    {
     "data": {
      "text/plain": [
       "array([4, 6], dtype=int64)"
      ]
     },
     "execution_count": 8,
     "metadata": {},
     "output_type": "execute_result"
    }
   ],
   "source": [
    "valid_frame_sizes = get_valid_frame_sizes(possible_frame_sizes, hyper_period)\n",
    "valid_frame_sizes"
   ]
  },
  {
   "cell_type": "code",
   "execution_count": 9,
   "metadata": {},
   "outputs": [
    {
     "name": "stdout",
     "output_type": "stream",
     "text": [
      "[4 6]\n"
     ]
    }
   ],
   "source": [
    "final_frame_sizes = []\n",
    "for frame_size in valid_frame_sizes:\n",
    "    count = 0\n",
    "    for _, row in taskset.iterrows():\n",
    "        # print(row)\n",
    "        condition = 2*frame_size - np.gcd(row.Period, frame_size)<= row.Deadline\n",
    "        if condition:\n",
    "            count+=1\n",
    "        if count == len(taskset):\n",
    "            final_frame_sizes.append(frame_size)\n",
    "print(np.array(final_frame_sizes))"
   ]
  },
  {
   "cell_type": "code",
   "execution_count": 10,
   "metadata": {},
   "outputs": [
    {
     "name": "stdout",
     "output_type": "stream",
     "text": [
      "36 4\n"
     ]
    }
   ],
   "source": [
    "frame_size = final_frame_sizes[0]\n",
    "print(hyper_period,frame_size)"
   ]
  },
  {
   "cell_type": "code",
   "execution_count": 11,
   "metadata": {},
   "outputs": [
    {
     "data": {
      "text/plain": [
       "[{'Task': 1, 'Computation': 2, 'Period': 6, 'Deadline': 6},\n",
       " {'Task': 2, 'Computation': 2, 'Period': 9, 'Deadline': 9},\n",
       " {'Task': 3, 'Computation': 2, 'Period': 12, 'Deadline': 8},\n",
       " {'Task': 4, 'Computation': 4, 'Period': 18, 'Deadline': 10}]"
      ]
     },
     "execution_count": 11,
     "metadata": {},
     "output_type": "execute_result"
    }
   ],
   "source": [
    "def get_taskset_dict_list(taskset_df):\n",
    "    taskset_list = []\n",
    "    for ind,row in taskset_df.iterrows():\n",
    "        dict = {\"Task\":int(row['Task']), \"Computation\":int(row['Computation']), \"Period\":int(row['Period']), \"Deadline\":int(row['Deadline'])}\n",
    "        taskset_list.append(dict)\n",
    "    return taskset_list\n",
    "\n",
    "task_set = get_taskset_dict_list(taskset)\n",
    "task_set"
   ]
  },
  {
   "cell_type": "code",
   "execution_count": 32,
   "metadata": {},
   "outputs": [],
   "source": [
    "from z3 import Solver, Int, sat\n",
    "\n",
    "\n",
    "\n",
    "# Sort the task set by periods\n",
    "task_set_sorted = sorted(task_set, key=lambda x: x['Deadline'])\n",
    "\n",
    "# Find the hyper period\n",
    "hyper_period = hyper_period#task_set_sorted[-1]['Period']\n",
    "\n",
    "# Define the start times of the tasks as integer variables\n",
    "start_times = [Int(f\"start_time_{task['Task']}\") for task in task_set_sorted]\n",
    "\n",
    "# Create a solver\n",
    "smt = Solver()\n",
    "\n",
    "\n"
   ]
  },
  {
   "cell_type": "code",
   "execution_count": 33,
   "metadata": {},
   "outputs": [
    {
     "data": {
      "text/plain": [
       "[{'Task': 1, 'Computation': 2, 'Period': 6, 'Deadline': 6},\n",
       " {'Task': 2, 'Computation': 2, 'Period': 9, 'Deadline': 9},\n",
       " {'Task': 3, 'Computation': 2, 'Period': 12, 'Deadline': 8},\n",
       " {'Task': 4, 'Computation': 4, 'Period': 18, 'Deadline': 10}]"
      ]
     },
     "execution_count": 33,
     "metadata": {},
     "output_type": "execute_result"
    }
   ],
   "source": [
    "task_set"
   ]
  },
  {
   "cell_type": "code",
   "execution_count": 34,
   "metadata": {},
   "outputs": [],
   "source": [
    "release_instances_optim = []\n",
    "for task in task_set_sorted:\n",
    "    task_list = []\n",
    "    for nn in range(int(floor(hyper_period / task[\"Period\"]))):\n",
    "        # print(nn)\n",
    "        task_list.append(Int(\"Task\"+str(task['Task']) + \"_\" + \"inst_\" + str(nn)))\n",
    "    release_instances_optim.append(task_list)\n",
    "    "
   ]
  },
  {
   "cell_type": "code",
   "execution_count": 35,
   "metadata": {},
   "outputs": [
    {
     "data": {
      "text/plain": [
       "[[Task1_inst_0,\n",
       "  Task1_inst_1,\n",
       "  Task1_inst_2,\n",
       "  Task1_inst_3,\n",
       "  Task1_inst_4,\n",
       "  Task1_inst_5],\n",
       " [Task3_inst_0, Task3_inst_1, Task3_inst_2],\n",
       " [Task2_inst_0, Task2_inst_1, Task2_inst_2, Task2_inst_3],\n",
       " [Task4_inst_0, Task4_inst_1]]"
      ]
     },
     "execution_count": 35,
     "metadata": {},
     "output_type": "execute_result"
    }
   ],
   "source": [
    "(release_instances_optim)"
   ]
  },
  {
   "cell_type": "code",
   "execution_count": 36,
   "metadata": {},
   "outputs": [],
   "source": [
    "release_instances = []\n",
    "for item in task_set:\n",
    "    # print(task_set)\n",
    "    computation_t = item[\"Computation\"]\n",
    "    num_instances = int(floor(hyper_period/item[\"Period\"]))\n",
    "    prev_period = 0\n",
    "    deadline = item['Deadline']\n",
    "    # print(item)\n",
    "    instances = []\n",
    "    prev_deadline = deadline\n",
    "    for i in range(num_instances):\n",
    "        # print(prev_period, prev_deadline)\n",
    "        instances.append({\"Period\": prev_period, \"Deadline\":prev_deadline, \"Computation\":computation_t})\n",
    "        prev_period +=item[\"Period\"]\n",
    "        prev_deadline = prev_period + deadline\n",
    "    release_instances.append(instances)\n"
   ]
  },
  {
   "cell_type": "code",
   "execution_count": 37,
   "metadata": {},
   "outputs": [
    {
     "data": {
      "text/plain": [
       "[[{'Period': 0, 'Deadline': 6, 'Computation': 2},\n",
       "  {'Period': 6, 'Deadline': 12, 'Computation': 2},\n",
       "  {'Period': 12, 'Deadline': 18, 'Computation': 2},\n",
       "  {'Period': 18, 'Deadline': 24, 'Computation': 2},\n",
       "  {'Period': 24, 'Deadline': 30, 'Computation': 2},\n",
       "  {'Period': 30, 'Deadline': 36, 'Computation': 2}],\n",
       " [{'Period': 0, 'Deadline': 9, 'Computation': 2},\n",
       "  {'Period': 9, 'Deadline': 18, 'Computation': 2},\n",
       "  {'Period': 18, 'Deadline': 27, 'Computation': 2},\n",
       "  {'Period': 27, 'Deadline': 36, 'Computation': 2}],\n",
       " [{'Period': 0, 'Deadline': 8, 'Computation': 2},\n",
       "  {'Period': 12, 'Deadline': 20, 'Computation': 2},\n",
       "  {'Period': 24, 'Deadline': 32, 'Computation': 2}],\n",
       " [{'Period': 0, 'Deadline': 10, 'Computation': 4},\n",
       "  {'Period': 18, 'Deadline': 28, 'Computation': 4}]]"
      ]
     },
     "execution_count": 37,
     "metadata": {},
     "output_type": "execute_result"
    }
   ],
   "source": [
    "release_instances"
   ]
  },
  {
   "cell_type": "code",
   "execution_count": 38,
   "metadata": {},
   "outputs": [
    {
     "name": "stdout",
     "output_type": "stream",
     "text": [
      "Task: {'Task': 1, 'Computation': 2, 'Period': 6, 'Deadline': 6}, Start: 0, End: 2, Computation_time:2\n",
      "Task: {'Task': 1, 'Computation': 2, 'Period': 6, 'Deadline': 6}, Start: 10, End: 12, Computation_time:2\n",
      "Task: {'Task': 1, 'Computation': 2, 'Period': 6, 'Deadline': 6}, Start: 12, End: 14, Computation_time:2\n",
      "Task: {'Task': 1, 'Computation': 2, 'Period': 6, 'Deadline': 6}, Start: 18, End: 20, Computation_time:2\n",
      "Task: {'Task': 1, 'Computation': 2, 'Period': 6, 'Deadline': 6}, Start: 28, End: 30, Computation_time:2\n",
      "Task: {'Task': 1, 'Computation': 2, 'Period': 6, 'Deadline': 6}, Start: 32, End: 34, Computation_time:2\n",
      "Task: {'Task': 3, 'Computation': 2, 'Period': 12, 'Deadline': 8}, Start: 2, End: 4, Computation_time:2\n",
      "Task: {'Task': 3, 'Computation': 2, 'Period': 12, 'Deadline': 8}, Start: 14, End: 16, Computation_time:2\n",
      "Task: {'Task': 3, 'Computation': 2, 'Period': 12, 'Deadline': 8}, Start: 20, End: 22, Computation_time:2\n",
      "Task: {'Task': 2, 'Computation': 2, 'Period': 9, 'Deadline': 9}, Start: 4, End: 6, Computation_time:2\n",
      "Task: {'Task': 2, 'Computation': 2, 'Period': 9, 'Deadline': 9}, Start: 16, End: 18, Computation_time:2\n",
      "Task: {'Task': 2, 'Computation': 2, 'Period': 9, 'Deadline': 9}, Start: 30, End: 32, Computation_time:2\n",
      "Task: {'Task': 4, 'Computation': 4, 'Period': 18, 'Deadline': 10}, Start: 6, End: 10, Computation_time:4\n",
      "Task: {'Task': 4, 'Computation': 4, 'Period': 18, 'Deadline': 10}, Start: 24, End: 28, Computation_time:4\n"
     ]
    }
   ],
   "source": [
    "# Add constraints for each task\n",
    "for i, task in enumerate(task_set_sorted):\n",
    "    prev_st = None\n",
    "    for var, optim_var in zip(release_instances[i], release_instances_optim[i]):\n",
    "        \n",
    "        start_time = optim_var\n",
    "        computation_time = task['Computation']\n",
    "        period = var['Period']\n",
    "        deadline = var['Deadline']\n",
    "\n",
    "        # Start time must be non-negative\n",
    "        smt.add(start_time >= 0)\n",
    "        for ii in release_instances_optim:\n",
    "            \n",
    "            for jj in ii:\n",
    "                # print(jj,start_time)\n",
    "                if not(jj==start_time):\n",
    "                    smt.add(Or(\n",
    "                        start_time + computation_time <= jj,\n",
    "                        start_time >= jj +2 \n",
    "                    ))\n",
    "                   \n",
    "                \n",
    "        \n",
    "        smt.add(And(start_time>=period),(start_time + computation_time <=  deadline))\n",
    "        \n",
    "        \n",
    "        prev_st = start_time \n",
    "\n",
    "# Check if there is a solution\n",
    "if smt.check() == sat:\n",
    "    model = smt.model()\n",
    "    ploting_list = []\n",
    "    for i, task in enumerate(task_set_sorted):\n",
    "        schedule = []\n",
    "        for var, optim_var in zip(release_instances[i], release_instances_optim[i]):\n",
    "            # print(var)\n",
    "            schedule.append(( model.evaluate(optim_var).as_long(), model.evaluate(optim_var + task['Computation']).as_long(),var[\"Computation\"]))\n",
    "            schedule.sort(key=lambda x: x[1])  # Sort the schedule by start time\n",
    "        ploting_list.append(schedule)\n",
    "        # Print the schedule\n",
    "        for start_time, end_time, computation in schedule:\n",
    "            print(f\"Task: {task}, Start: {start_time}, End: {end_time}, Computation_time:{computation}\")\n",
    "else:\n",
    "    print(\"No feasible schedule exists.\")\n"
   ]
  },
  {
   "cell_type": "code",
   "execution_count": 39,
   "metadata": {},
   "outputs": [
    {
     "data": {
      "text/plain": [
       "[[(0, 2, 2), (10, 12, 2), (12, 14, 2), (18, 20, 2), (28, 30, 2), (32, 34, 2)],\n",
       " [(2, 4, 2), (14, 16, 2), (20, 22, 2)],\n",
       " [(4, 6, 2), (16, 18, 2), (30, 32, 2)],\n",
       " [(6, 10, 4), (24, 28, 4)]]"
      ]
     },
     "execution_count": 39,
     "metadata": {},
     "output_type": "execute_result"
    }
   ],
   "source": [
    "ploting_list"
   ]
  },
  {
   "cell_type": "code",
   "execution_count": 40,
   "metadata": {},
   "outputs": [
    {
     "name": "stderr",
     "output_type": "stream",
     "text": [
      "C:\\Users\\ShahabKhan\\AppData\\Local\\Temp\\ipykernel_6844\\844846266.py:22: MatplotlibDeprecationWarning: The 'b' parameter of grid() has been renamed 'visible' since Matplotlib 3.5; support for the old name will be dropped two minor releases later.\n",
      "  plt.grid(b=True, which='major', color='#666666', linestyle='-')\n",
      "C:\\Users\\ShahabKhan\\AppData\\Local\\Temp\\ipykernel_6844\\844846266.py:25: MatplotlibDeprecationWarning: The 'b' parameter of grid() has been renamed 'visible' since Matplotlib 3.5; support for the old name will be dropped two minor releases later.\n",
      "  plt.grid(b=True, which='minor', color='#999999', linestyle='-', alpha=0.2)\n"
     ]
    },
    {
     "name": "stdout",
     "output_type": "stream",
     "text": [
      "\n",
      "Schedule plotted for %s hyper-periods\n",
      "\n"
     ]
    },
    {
     "data": {
      "image/png": "[encoded data removed]",
      "text/plain": [
       "<Figure size 1500x500 with 1 Axes>"
      ]
     },
     "metadata": {},
     "output_type": "display_data"
    }
   ],
   "source": [
    "figsize = (15, 5) \n",
    "fig, axis = plt.subplots(figsize=figsize)\n",
    "plt.subplots_adjust(left=0.05, bottom=0.10, right=0.97, top=0.96)\n",
    "\n",
    "\n",
    "plt.title(f\" (Hyper-period =  {(hyper_period)}, frame_size = {frame_size} )\")\n",
    "\n",
    "# Setting Y-axis limits\n",
    "axis.set_ylim(0, len(ploting_list) * 10)\n",
    "# Setting X-axis limits\n",
    "axis.set_xlim(0, hyper_period )\n",
    "# Setting labels for x-axis and y-axis\n",
    "axis.set_xlabel('Schedule Timeline')\n",
    "axis.set_ylabel('Tasks')\n",
    "# axis.set_xticks(range(0, periods*Sum([t.getStartPIT()+t.execution for t in taskSet]), 5000))\n",
    "axis.set_xticks(range(0, hyper_period , 1))\n",
    "# Setting ticks on y-axis\n",
    "axis.set_yticks(range(5, len(ploting_list) * 10 + 5, 10))\n",
    "# Labelling tickes of y-axis\n",
    "\n",
    "# Show the major grid lines with dark grey lines\n",
    "plt.grid(b=True, which='major', color='#666666', linestyle='-')\n",
    "# Show the minor grid lines with very faint and almost transparent grey lines\n",
    "plt.minorticks_on()\n",
    "plt.grid(b=True, which='minor', color='#999999', linestyle='-', alpha=0.2)\n",
    "# Color map\n",
    "cmap = plt.cm.get_cmap('viridis', len(ploting_list))\n",
    "print(\"\\nSchedule plotted for %s hyper-periods\\n\" )\n",
    "for ind,i in enumerate(ploting_list):\n",
    "    taskExecutionBars = []    \n",
    "    for jj in i:\n",
    "        start = jj[0] \n",
    "        end = jj[1]\n",
    "        computation = jj[2]\n",
    "        taskExecutionBars.append((start, computation))\n",
    "    task_label = f\"task_{ind + 1}\"\n",
    "    axis.broken_barh(taskExecutionBars, (ind * 10, 10), label=task_label, facecolors=cmap(ind), edgecolor='k',\n",
    "                        linestyle='dotted', linewidth=0.2)\n",
    "\n",
    "axis.legend()\n",
    "fig.autofmt_xdate()\n",
    "fig.tight_layout()\n",
    "fig.savefig('figures/figure2.jpg', format='jpg', dpi=500, transparent=False)  # Save as PNG file with 300 DPI resolution\n",
    "plt.show()"
   ]
  },
  {
   "cell_type": "code",
   "execution_count": null,
   "metadata": {},
   "outputs": [],
   "source": []
  },
  {
   "cell_type": "code",
   "execution_count": null,
   "metadata": {},
   "outputs": [],
   "source": []
  },
  {
   "cell_type": "code",
   "execution_count": null,
   "metadata": {},
   "outputs": [],
   "source": []
  }
 ],
 "metadata": {
  "kernelspec": {
   "display_name": "shadow",
   "language": "python",
   "name": "python3"
  },
  "language_info": {
   "codemirror_mode": {
    "name": "ipython",
    "version": 3
   },
   "file_extension": ".py",
   "mimetype": "text/x-python",
   "name": "python",
   "nbconvert_exporter": "python",
   "pygments_lexer": "ipython3",
   "version": "3.9.16"
  },
  "orig_nbformat": 4,
  "vscode": {
   "interpreter": {
    "hash": "0cf74a999d4ffc40242a95e83262eb29ca41616976ba1c2942396ce7ebf7594a"
   }
  }
 },
 "nbformat": 4,
 "nbformat_minor": 2
}
